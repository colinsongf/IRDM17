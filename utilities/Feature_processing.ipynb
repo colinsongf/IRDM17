{
 "cells": [
  {
   "cell_type": "code",
   "execution_count": 1,
   "metadata": {
    "collapsed": false
   },
   "outputs": [],
   "source": [
    "import csv\n",
    "import ast\n",
    "from sklearn.feature_extraction import DictVectorizer\n",
    "import pickle\n",
    "from collections import defaultdict\n",
    "\n",
    "vectorizer = DictVectorizer()\n",
    "big_table_path = r\"C:\\Users\\Uly\\Desktop\\Desktop\\UCL\\IRDM\\data\\merged\\Final_Big_Table.csv\""
   ]
  },
  {
   "cell_type": "code",
   "execution_count": 2,
   "metadata": {
    "collapsed": true
   },
   "outputs": [],
   "source": [
    "def pickle_object(obj, path):\n",
    "    pickle.dump(obj,open(path,\"wb\"))"
   ]
  },
  {
   "cell_type": "code",
   "execution_count": 3,
   "metadata": {
    "collapsed": false
   },
   "outputs": [],
   "source": [
    "#Loads the data from Final_Big_Table and returns:\n",
    "#features is a list of dictionaries, with each dictionary containing the feature name-value pairs for the samples\n",
    "#labels is a list containing the relevance scores for each corresponding element in the features dictionary.\n",
    "#search_terms is a list containing the search term for each corresponding element in the features dictionary.\n",
    "def load_data(filepath:str):\n",
    "    features = []\n",
    "    labels = []\n",
    "    search_terms = []\n",
    "    with open(filepath, 'r', encoding='utf-8') as csvfile:\n",
    "        reader = csv.reader(csvfile, delimiter=',', quotechar='\"')  \n",
    "        next(reader)\n",
    "        for row in reader:\n",
    "            instance = {'FST_TFPD_Score':float(row[2]),\n",
    "                       'preST_TFPD_Score':float(row[3]),\n",
    "                       'postST_TFPD_Score':float(row[4]),\n",
    "                       'FST_TFPT_Score':float(row[5]),\n",
    "                       'preST_TFPT_Score':float(row[6]),\n",
    "                       'postST_TFPT_Score':float(row[7]),\n",
    "                       'FST_TFAT_Score':float(row[8]),\n",
    "                       'preST_TFAT_Score':float(row[9]),\n",
    "                       'postST_TFAT_Score':float(row[10]),\n",
    "                       'FST_WFPD_Score':float(row[11]),\n",
    "                       'preST_WFPD_Score':float(row[12]),\n",
    "                       'postST_WFPD_Score':float(row[13]),\n",
    "                       'FST_WFPT_Score':float(row[14]), \n",
    "                       'preST_WFPT_Score':float(row[15]), \n",
    "                       'postST_WFPT_Score':float(row[16]), \n",
    "                       'FST_WFAT_Score':float(row[17]), \n",
    "                       'preST_WFAT_Score':float(row[18]), \n",
    "                       'postST_WFAT_Score':float(row[19]), \n",
    "                       'FST_W2VPD_Score':float(row[20]), \n",
    "                       'preST_W2VPD_Score':float(row[21]), \n",
    "                       'postST_W2VPD_Score':float(row[22]), \n",
    "                       'prodTitle_FsT_prob':float(row[23]), \n",
    "                       'prodTitle_length_feat':float(row[24]),\n",
    "                       'prodTitle_postST_prob':float(row[25]), \n",
    "                       'prodTitle_preST_prob':float(row[26]), \n",
    "                       'prodDesc_FsT_prob':float(row[27]), \n",
    "                       'prodDesc_length_feat':float(row[28]), \n",
    "                       'prodDesc_postST_prob':float(row[29]), \n",
    "                       'prodDesc_preST_prob':float(row[30]), \n",
    "                       'prodAttr_FsT_prob':float(row[31]), \n",
    "                       'prodAttr_length_feat':float(row[32]), \n",
    "                       'prodAttr_postST_prob':float(row[33]), \n",
    "                       'prodAttr_preST_prob':float(row[34])\n",
    "                        }\n",
    "            #full_feat1 = ast.literal_eval(row[35])\n",
    "            #if full_feat1['subsequence_query+title']:\n",
    "            #    instance.update({'full_feat1':full_feat1['subsequence_query+title']})\n",
    "            #full_feat2 = ast.literal_eval(row[36])\n",
    "            #if full_feat2['subsequence_query+description']:\n",
    "            #    instance.update({'full_feat2':full_feat2['subsequence_query+description']})\n",
    "            #instance.update(ast.literal_eval(row[37]))\n",
    "            #instance.update(ast.literal_eval(row[38]))\n",
    "            temp = ast.literal_eval(row[38])\n",
    "            instance.update({'common_word_count':int(temp['common_word_count'])})\n",
    "\n",
    "            \n",
    "            features.append(instance)\n",
    "            search_terms.append(row[0])\n",
    "            labels.append(float(row[1]))\n",
    "    return features, search_terms,labels"
   ]
  },
  {
   "cell_type": "code",
   "execution_count": 4,
   "metadata": {
    "collapsed": false
   },
   "outputs": [],
   "source": [
    "features,search_terms,labels = load_data(big_table_path)"
   ]
  },
  {
   "cell_type": "code",
   "execution_count": 43,
   "metadata": {
    "collapsed": false
   },
   "outputs": [],
   "source": [
    "#Converts the features dictionary to a sparse matrix form\n",
    "matrix_form = vectorizer.fit_transform(features)"
   ]
  },
  {
   "cell_type": "code",
   "execution_count": 45,
   "metadata": {
    "collapsed": false
   },
   "outputs": [
    {
     "data": {
      "text/plain": [
       "<74067x33 sparse matrix of type '<class 'numpy.float64'>'\n",
       "\twith 945935 stored elements in Compressed Sparse Row format>"
      ]
     },
     "execution_count": 45,
     "metadata": {},
     "output_type": "execute_result"
    }
   ],
   "source": [
    "matrix_form"
   ]
  },
  {
   "cell_type": "code",
   "execution_count": 46,
   "metadata": {
    "collapsed": false
   },
   "outputs": [],
   "source": [
    "pickle_object(matrix_form, r\"C:\\Users\\Uly\\Desktop\\Desktop\\UCL\\IRDM\\data\\merged\\the_matrix_0feat.p\")\n",
    "#pickle_object(search_terms, r\"C:\\Users\\Uly\\Desktop\\Desktop\\UCL\\IRDM\\data\\merged\\search_terms.p\")\n",
    "#pickle_object(labels, r\"C:\\Users\\Uly\\Desktop\\Desktop\\UCL\\IRDM\\data\\merged\\labels.p\")"
   ]
  },
  {
   "cell_type": "code",
   "execution_count": 5,
   "metadata": {
    "collapsed": false
   },
   "outputs": [],
   "source": [
    "#-----Continue here--------------#\n",
    "#This saves the thing in a dictionary of lists\n",
    "result = defaultdict(list)\n",
    "for item in features:\n",
    "    result['FST_TFPD_Score'].append(item['FST_TFPD_Score'])\n",
    "    result['preST_TFPD_Score'].append(item['preST_TFPD_Score'])\n",
    "    result['postST_TFPD_Score'].append(item['postST_TFPD_Score'])\n",
    "    result['FST_TFPT_Score'].append(item['FST_TFPT_Score'])\n",
    "    result['preST_TFPT_Score'].append(item['preST_TFPT_Score'])\n",
    "    result['postST_TFPT_Score'].append(item['postST_TFPT_Score'])\n",
    "    result['FST_TFAT_Score'].append(item['FST_TFAT_Score'])\n",
    "    result['preST_TFAT_Score'].append(item['preST_TFAT_Score'])\n",
    "    result['postST_TFAT_Score'].append(item['postST_TFAT_Score'])\n",
    "    result['FST_WFPD_Score'].append(item['FST_WFPD_Score'])\n",
    "    result['preST_WFPD_Score'].append(item['preST_WFPD_Score'])\n",
    "    result['postST_WFPD_Score'].append(item['postST_WFPD_Score'])\n",
    "    result['FST_WFPT_Score'].append(item['FST_WFPT_Score'])  \n",
    "    result['preST_WFPT_Score'].append(item['preST_WFPT_Score'])  \n",
    "    result['postST_WFPT_Score'].append(item['postST_WFPT_Score'])  \n",
    "    result['FST_WFAT_Score'].append(item['FST_WFAT_Score'])  \n",
    "    result['preST_WFAT_Score'].append(item['preST_WFAT_Score'])  \n",
    "    result['postST_WFAT_Score'].append(item['postST_WFAT_Score'])  \n",
    "    result['FST_W2VPD_Score'].append(item['FST_W2VPD_Score'])  \n",
    "    result['preST_W2VPD_Score'].append(item['preST_W2VPD_Score'])  \n",
    "    result['postST_W2VPD_Score'].append(item['postST_W2VPD_Score'])  \n",
    "    result['prodTitle_FsT_prob'].append(item['prodTitle_FsT_prob'])  \n",
    "    result['prodTitle_postST_prob'].append(item['prodTitle_postST_prob'])  \n",
    "    result['prodTitle_preST_prob'].append(item['prodTitle_preST_prob'])  \n",
    "    result['prodDesc_FsT_prob'].append(item['prodDesc_FsT_prob'])   \n",
    "    result['prodDesc_postST_prob'].append(item['prodDesc_postST_prob'])  \n",
    "    result['prodDesc_preST_prob'].append(item['prodDesc_preST_prob'])  \n",
    "    result['prodAttr_FsT_prob'].append(item['prodAttr_FsT_prob'])   \n",
    "    result['prodAttr_postST_prob'].append(item['prodAttr_postST_prob'])  \n",
    "    result['prodAttr_preST_prob'].append(item['prodAttr_preST_prob'])\n",
    "    result['prodTitle_length_feat'].append(item['prodTitle_length_feat'])\n",
    "    result['prodDesc_length_feat'].append(item['prodDesc_length_feat'])\n",
    "    result['prodAttr_length_feat'].append(item['prodAttr_length_feat'])\n",
    "    result['common_word_count'].append(item['common_word_count'])\n",
    "pickle_object(result,r\"C:\\Users\\Uly\\Desktop\\Desktop\\UCL\\IRDM\\IRDM17\\src\\dict_list.p\")\n",
    "pickle_object(labels,r\"C:\\Users\\Uly\\Desktop\\Desktop\\UCL\\IRDM\\IRDM17\\src\\labels.p\")"
   ]
  },
  {
   "cell_type": "code",
   "execution_count": null,
   "metadata": {
    "collapsed": true
   },
   "outputs": [],
   "source": []
  }
 ],
 "metadata": {
  "anaconda-cloud": {},
  "kernelspec": {
   "display_name": "Python [conda root]",
   "language": "python",
   "name": "conda-root-py"
  },
  "language_info": {
   "codemirror_mode": {
    "name": "ipython",
    "version": 3
   },
   "file_extension": ".py",
   "mimetype": "text/x-python",
   "name": "python",
   "nbconvert_exporter": "python",
   "pygments_lexer": "ipython3",
   "version": "3.5.2"
  }
 },
 "nbformat": 4,
 "nbformat_minor": 1
}
