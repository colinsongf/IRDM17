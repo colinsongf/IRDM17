{
 "cells": [
  {
   "cell_type": "code",
   "execution_count": 138,
   "metadata": {
    "collapsed": false,
    "scrolled": true
   },
   "outputs": [],
   "source": [
    "import pandas as pd\n",
    "import csv\n",
    "import nltk\n",
    "from collections import OrderedDict\n",
    "\n",
    "training_path = r\"C:\\Users\\Uly\\Desktop\\Desktop\\UCL\\IRDM\\data\\train.csv\"\n",
    "descriptions_path = r\"C:\\Users\\Uly\\Desktop\\Desktop\\UCL\\IRDM\\data\\product_descriptions.csv\"\n",
    "attributes_path = r\"C:\\Users\\Uly\\Desktop\\Desktop\\UCL\\IRDM\\data\\attributes.csv\""
   ]
  },
  {
   "cell_type": "code",
   "execution_count": 139,
   "metadata": {
    "collapsed": false
   },
   "outputs": [],
   "source": [
    "df_train = pd.read_csv(training_path, encoding=\"ISO-8859-1\")\n",
    "df_description = pd.read_csv(descriptions_path, encoding=\"ISO-8859-1\")\n",
    "df_attributes = pd.read_csv(attributes_path, encoding=\"ISO-8859-1\")"
   ]
  },
  {
   "cell_type": "code",
   "execution_count": 148,
   "metadata": {
    "collapsed": false
   },
   "outputs": [],
   "source": [
    "def common_subsequence(doc1, doc2):\n",
    "    result = []\n",
    "    d1 = doc1.split(' ')\n",
    "    d2 = doc2.split(' ')\n",
    "    \n",
    "    d2_dict = OrderedDict()\n",
    "    \n",
    "    for word in d2:\n",
    "        d2_dict[word] = word\n",
    "    \n",
    "    for word in d1:\n",
    "        if word in d2_dict:\n",
    "            result.append(word)\n",
    "    \n",
    "    return result\n",
    "\n",
    "#important nouns in query\n",
    "def feat_1(product,description,attributes,feat_dict:dict):\n",
    "    #text = nltk.word_tokenize(product.product_title)\n",
    "    #tagged_text = nltk.pos_tag(text)\n",
    "    #print(tagged_text)\n",
    "    pass\n",
    "    \n",
    "#common subsequence between query and title\n",
    "def feat_2(product,description,attributes,feat_dict:dict):\n",
    "    query = product.search_term\n",
    "    title = product.product_title\n",
    "    subsequence = common_subsequence(query,title)\n",
    "    result = ' '.join(subsequence)\n",
    "    feat_dict.update({'subsequence_query+title':result})\n",
    "\n",
    "#common subsequence between query and description\n",
    "def feat_3(product,description,attributes,feat_dict:dict):\n",
    "    query = product.search_term\n",
    "    desc = description.product_description\n",
    "    subsequence = common_subsequence(query,desc)\n",
    "    result = ' '.join(subsequence)\n",
    "    feat_dict.update({'subsequence_query+description':result})    \n",
    "    \n",
    "#all product attributes\n",
    "def feat_4(product,description,attributes,feat_dict:dict):\n",
    "    attribute_names = attributes.name\n",
    "    attribute_values = attributes.value\n",
    "    \n",
    "    temp_dict = {}\n",
    "    for i in range(0, len(attribute_names)):\n",
    "        temp_dict[attribute_names[i]] = attribute_values[i]\n",
    "        \n",
    "    feat_dict.update(temp_dict)\n",
    "    \n",
    "#number of words in common between the query and the attributes,and words themselves \n",
    "def feat_5_6(product,description,attributes,feat_dict:dict):\n",
    "    attribute_names = attributes.name\n",
    "    attribute_values = attributes.value\n",
    "    \n",
    "    query = product.search_term\n",
    "    \n",
    "    all_words = set()\n",
    "    \n",
    "    for i in range(0, len(attribute_names)):\n",
    "        all_words.add(attribute_names[i])\n",
    "        all_words.add(attribute_values[i])\n",
    "        \n",
    "    common_words = [w if w in all_words for w in query.split(' ')]\n",
    "    \n",
    "    if len(common_words) == 0:\n",
    "        feat_dict.update({'common_word_count':0})\n",
    "        return\n",
    "    \n",
    "    temp_dict = {}\n",
    "    temp_dict['common_word_count'] = len(common_words)\n",
    "    for w in common_words:\n",
    "        temp_dict['common_word:'+w] = True\n",
    "        \n",
    "    feat_dict.update(temp_dict)\n",
    "    \n",
    "#important nouns in product title\n",
    "#important nouns in product description\n",
    "\n",
    "#tf-idf cosine similarity between product title and query\n",
    "#tf-idf cosine similarity between product description and query"
   ]
  },
  {
   "cell_type": "code",
   "execution_count": 149,
   "metadata": {
    "collapsed": true
   },
   "outputs": [],
   "source": [
    "def process_event(product,description,attributes):\n",
    "    feat_dict = {}\n",
    "    feat_4(product,description,attributes,feat_dict)\n",
    "    #...\n",
    "    return feat_dict\n",
    "    "
   ]
  },
  {
   "cell_type": "code",
   "execution_count": 150,
   "metadata": {
    "collapsed": false
   },
   "outputs": [],
   "source": [
    "def feature_extraction(df_t, df_d, df_a):\n",
    "    data = []\n",
    "    for i in range(0, len(df_t)):\n",
    "        product_row = df_t.iloc[i]\n",
    "        prod_id = product_row.product_uid\n",
    "        description_row = df_d.loc[df_d['product_uid'] == prod_id]\n",
    "        attribute_rows = df_a.loc[df_a['product_uid'] == prod_id]\n",
    "        data.append(process_event(product_row,description_row,attribute_rows))\n",
    "        break"
   ]
  },
  {
   "cell_type": "code",
   "execution_count": 151,
   "metadata": {
    "collapsed": false
   },
   "outputs": [
    {
     "name": "stdout",
     "output_type": "stream",
     "text": [
      "{'Bullet01': 'Versatile connector for various 90Â° connections and home repair projects', 'Bullet02': 'Stronger than angled nailing or screw fastening alone', 'Product Weight (lb.)': '0.26', 'Material': 'Galvanized Steel', 'Product Width (in.)': '3', 'Product Height (in.)': '3', 'Bullet03': 'Help ensure joints are consistently straight and strong', 'Bullet04': 'Dimensions: 3 in. x 3 in. x 1-1/2 in.', 'Product Depth (in.)': '1.5', 'Bullet07': 'Install with 10d common nails or #9 x 1-1/2 in. Strong-Drive SD screws', 'Bullet06': 'Galvanized for extra corrosion resistance', 'Bullet05': 'Made from 12-Gauge steel', 'Number of Pieces': '1', 'Gauge': '12', 'MFG Brand Name': 'Simpson Strong-Tie'}\n"
     ]
    }
   ],
   "source": [
    "feature_extraction(df_train, df_description, df_attributes)"
   ]
  },
  {
   "cell_type": "code",
   "execution_count": 132,
   "metadata": {
    "collapsed": false
   },
   "outputs": [
    {
     "name": "stdout",
     "output_type": "stream",
     "text": [
      "6\n",
      "11\n"
     ]
    }
   ],
   "source": [
    "common_subsequence('a a a a a','a a a a a a a a a a')"
   ]
  },
  {
   "cell_type": "code",
   "execution_count": null,
   "metadata": {
    "collapsed": true
   },
   "outputs": [],
   "source": []
  }
 ],
 "metadata": {
  "anaconda-cloud": {},
  "kernelspec": {
   "display_name": "Python [conda root]",
   "language": "python",
   "name": "conda-root-py"
  },
  "language_info": {
   "codemirror_mode": {
    "name": "ipython",
    "version": 3
   },
   "file_extension": ".py",
   "mimetype": "text/x-python",
   "name": "python",
   "nbconvert_exporter": "python",
   "pygments_lexer": "ipython3",
   "version": "3.5.2"
  }
 },
 "nbformat": 4,
 "nbformat_minor": 1
}
