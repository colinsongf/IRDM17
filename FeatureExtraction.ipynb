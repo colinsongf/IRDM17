{
 "cells": [
  {
   "cell_type": "code",
   "execution_count": 2,
   "metadata": {
    "collapsed": false,
    "scrolled": true
   },
   "outputs": [],
   "source": [
    "import csv\n",
    "from collections import OrderedDict\n",
    "from collections import defaultdict\n",
    "\n",
    "training_path = r\"C:\\Users\\Uly\\Desktop\\Desktop\\UCL\\IRDM\\data\\train.csv\"\n",
    "descriptions_path = r\"C:\\Users\\Uly\\Desktop\\Desktop\\UCL\\IRDM\\data\\product_descriptions.csv\"\n",
    "attributes_path = r\"C:\\Users\\Uly\\Desktop\\Desktop\\UCL\\IRDM\\data\\attributes.csv\""
   ]
  },
  {
   "cell_type": "code",
   "execution_count": 3,
   "metadata": {
    "collapsed": false
   },
   "outputs": [],
   "source": [
    "#df_train = pd.read_csv(training_path, encoding=\"ISO-8859-1\")\n",
    "#df_description = pd.read_csv(descriptions_path, encoding=\"ISO-8859-1\")\n",
    "#df_attributes = pd.read_csv(attributes_path, encoding=\"ISO-8859-1\")"
   ]
  },
  {
   "cell_type": "code",
   "execution_count": 9,
   "metadata": {
    "collapsed": true
   },
   "outputs": [],
   "source": [
    "def load_data(filepath:str, table:str):\n",
    "    if table == 'train':\n",
    "        result = []\n",
    "        with open(filepath, 'r', encoding='utf-8') as csvfile:\n",
    "            reader = csv.reader(csvfile, delimiter=',', quotechar='\"')  \n",
    "            next(reader)\n",
    "            for row in reader:\n",
    "                instance = {'product_uid':row[1],'product_title':row[2],'search_term':row[3],'relevance':float(row[4])}\n",
    "                result.append(instance)\n",
    "    elif table == 'product_descriptions':\n",
    "        result = {}\n",
    "        with open(filepath, 'r', encoding='utf-8') as csvfile:\n",
    "            reader = csv.reader(csvfile, delimiter=',', quotechar='\"')  \n",
    "            next(reader)\n",
    "            for row in reader:\n",
    "                result[row[0]] = row[1]\n",
    "    elif table == 'attributes':\n",
    "        result = defaultdict(list)\n",
    "        with open(filepath, 'r', encoding='utf-8') as csvfile:\n",
    "            reader = csv.reader(csvfile, delimiter=',', quotechar='\"')  \n",
    "            next(reader)\n",
    "            for row in reader:\n",
    "                result[row[0]].append((row[1],row[2]))\n",
    "    return result"
   ]
  },
  {
   "cell_type": "code",
   "execution_count": 12,
   "metadata": {
    "collapsed": false
   },
   "outputs": [],
   "source": [
    "#-----THIS BOX CONTAINS THE IMPORTANT CODE------------#\n",
    "def common_subsequence(doc1, doc2):\n",
    "    result = []\n",
    "    d1 = doc1.split(' ')\n",
    "    d2 = doc2.split(' ')\n",
    "    \n",
    "    d2_dict = OrderedDict()\n",
    "    \n",
    "    for word in d2:\n",
    "        d2_dict[word] = word\n",
    "    \n",
    "    for word in d1:\n",
    "        if word in d2_dict:\n",
    "            result.append(word)\n",
    "    \n",
    "    return result\n",
    "\n",
    "#Feature: common subsequence between query and title\n",
    "#Arguments:\n",
    "#query_doc_pair is dictionary containing a row from the train.csv table, where they keys are the column names\n",
    "#description is a string containing the product description\n",
    "#attributes is list containing all (name,value) tuples for the product\n",
    "#feat_dict is a Dict(), which contains feature name-value pairs for other features extracted from\n",
    "#the same document-query pair. Basically, we will update that dictionary with a new feature.\n",
    "def feat_1(query_doc_pair:dict,description:str,attributes:list,feat_dict:dict):\n",
    "    query = query_doc_pair['search_term']\n",
    "    title = query_doc_pair['product_title']\n",
    "    subsequence = common_subsequence(query,title)\n",
    "    result = ' '.join(subsequence)\n",
    "    feat_dict.update({'subsequence_query+title':result})\n",
    "\n",
    "#Feature: common subsequence between query and description\n",
    "#Arguments:\n",
    "#query_doc_pair is dictionary containing a row from the train.csv table, where they keys are the column names\n",
    "#description is a string containing the product description\n",
    "#attributes is list containing all (name,value) tuples for the product\n",
    "#feat_dict is a Dict(), which contains feature name-value pairs for other features extracted from\n",
    "#the same document-query pair. Basically, we will update that dictionary with a new feature.\n",
    "def feat_2(query_doc_pair:dict,description:str,attributes:list,feat_dict:dict):\n",
    "    query = query_doc_pair['search_term']\n",
    "    subsequence = common_subsequence(query,description)\n",
    "    result = ' '.join(subsequence)\n",
    "    feat_dict.update({'subsequence_query+description':result})    \n",
    "    \n",
    "#Feature: all product attributes\n",
    "#Arguments:\n",
    "#query_doc_pair is dictionary containing a row from the train.csv table, where they keys are the column names\n",
    "#description is a string containing the product description\n",
    "#attributes is list containing all (name,value) tuples for the product\n",
    "#feat_dict is a Dict(), which contains feature name-value pairs for other features extracted from\n",
    "#the same document-query pair. Basically, we will update that dictionary with a new feature.\n",
    "def feat_3(query_doc_pair:dict,description:str,attributes:list,feat_dict:dict):    \n",
    "    temp_dict = {}\n",
    "    for attr in attributes:\n",
    "        temp_dict[attr[0]] = attr[1]\n",
    "        \n",
    "    feat_dict.update(temp_dict)\n",
    "    \n",
    "#Feature 4: number of words in common between the query and the attributes,\n",
    "#Feature 5: words in common between the query and the attribute\n",
    "#Arguments:\n",
    "#query_doc_pair is dictionary containing a row from the train.csv table, where they keys are the column names\n",
    "#description is a string containing the product description\n",
    "#attributes is list containing all (name,value) tuples for the product\n",
    "#feat_dict is a Dict(), which contains feature name-value pairs for other features extracted from\n",
    "#the same document-query pair. Basically, we will update that dictionary with a new feature.\n",
    "def feat_4_5(query_doc_pair:dict,description:str,attributes:list,feat_dict:dict):\n",
    "    query = set(query_doc_pair['search_term'].split(' '))\n",
    "    \n",
    "    all_words = set()\n",
    "    \n",
    "    for attr in attributes:\n",
    "        all_words.update(set(attr[0].split(' ')))\n",
    "        all_words.update(set(attr[1].split(' ')))\n",
    "        \n",
    "    common_words = query.intersection(all_words)\n",
    "    \n",
    "    \n",
    "    if len(common_words) == 0:\n",
    "        feat_dict.update({'common_word_count':0})\n",
    "        return\n",
    "    \n",
    "    temp_dict = {}\n",
    "    temp_dict['common_word_count'] = len(common_words)\n",
    "    for w in common_words:\n",
    "        temp_dict['common_word:'+w] = True\n",
    "        \n",
    "    feat_dict.update(temp_dict)"
   ]
  },
  {
   "cell_type": "code",
   "execution_count": 6,
   "metadata": {
    "collapsed": true
   },
   "outputs": [],
   "source": [
    "def process_event(product,description,attributes):\n",
    "    feat_dict = {}\n",
    "    feat_1(product,description,attributes,feat_dict)\n",
    "    feat_2(product,description,attributes,feat_dict)\n",
    "    feat_3(product,description,attributes,feat_dict)\n",
    "    feat_4_5(product,description,attributes,feat_dict)\n",
    "    #...\n",
    "    return feat_dict\n",
    "    "
   ]
  },
  {
   "cell_type": "code",
   "execution_count": 7,
   "metadata": {
    "collapsed": false
   },
   "outputs": [],
   "source": [
    "#Extracts features for all query-document pairs and returns a list of dictionaries, where each dictionary contains\n",
    "#the features for each doc-query pair.\n",
    "def feature_extraction(train:list,product_descriptions:dict,attibutes:dict):\n",
    "    all_features = []\n",
    "    for item in train:\n",
    "        product_uid = item['product_uid']\n",
    "        description = product_descriptions[product_uid]\n",
    "        attributes_list = attributes[product_uid]\n",
    "        all_features.append(process_event(item,description,attributes_list))\n",
    "    return all_features"
   ]
  },
  {
   "cell_type": "code",
   "execution_count": 10,
   "metadata": {
    "collapsed": false
   },
   "outputs": [],
   "source": [
    "train = load_data(training_path,'train')\n",
    "product_descriptions = load_data(descriptions_path,'product_descriptions')\n",
    "attributes = load_data(attributes_path,'attributes')"
   ]
  },
  {
   "cell_type": "code",
   "execution_count": 13,
   "metadata": {
    "collapsed": false
   },
   "outputs": [],
   "source": [
    "feat = feature_extraction(train, product_descriptions, attributes)"
   ]
  },
  {
   "cell_type": "code",
   "execution_count": 19,
   "metadata": {
    "collapsed": false
   },
   "outputs": [
    {
     "data": {
      "text/plain": [
       "{'Appliance Type': 'Over the Range Microwave',\n",
       " 'Assembled Depth (in.)': '18.5 in',\n",
       " 'Assembled Height (in.)': '17.13 in',\n",
       " 'Assembled Width (in.)': '29.94 in',\n",
       " 'Bullet01': 'Spacious 1.9 cu. ft. capacity accommodates dinner plates and casserole dishes with ease',\n",
       " 'Bullet02': '1100 watts of cooking power and 10 cooking levels make cooking and reheating a snap',\n",
       " 'Bullet03': '400 CFM venting system whisks smoke, steam and odors away from the cooktop to keep your kitchen air clear',\n",
       " 'Bullet04': 'Single piece door with built-in touch-activated control console streamlines the exterior for a sleek, modern look and easy cleanup',\n",
       " 'Bullet05': 'Cook with confidence with the Sensor and Programmed cooking cycles and options. Sensor cycles include: Steam/Simmer, AccuPop and Potato for fast prep of family favorites',\n",
       " 'Bullet06': \"Kids' Menu: it's simple, it's fast. The Kids' Menu is preset with cooking times and power levels for a variety of favorites like pizza and chicken nuggets. Now after school snacks don't have to be an afternoon hassle\",\n",
       " 'Bullet07': 'TimeSavor Plus True Convection cooking uses a 1600-watt element and a fan to circulate heat over, under and around food for fast cooking and even browning',\n",
       " 'Bullet08': 'Industry leading CleanRelease non-stick interior requires no special cleaners. A damp cloth or sponge is all that’s needed to remove cooked-on spills and splashes',\n",
       " 'Bullet09': \"Recessed turntable's on/off feature is especially helpful when cooking with plates that are larger than the turntable\",\n",
       " 'Bullet10': 'Automatic interior incandescent light and large window help you track cooking progress',\n",
       " 'Bullet11': '4-speed fan with Auto Vent Fan function. To keep the microwave oven from overheating, the vent fan will automatically turn on at high speed if the temperature from the range or cooktop below the microwave oven gets too hot',\n",
       " 'Bullet12': 'Replaceable charcoal and dishwasher safe mesh filters takes grease and other impurities out of the air',\n",
       " 'Bullet13': '90° hinge. With this innovative hinge design you can install this model next to a wall and still open the door easily',\n",
       " 'Bullet14': 'Limited 1-year warranty',\n",
       " 'Bullet15': 'Convertible venting. Can be installed as vented or non-vented (recirculating) to fit a variety of installation needs',\n",
       " 'Bullet16': \"AccuPop cycle senses the perfect pop every time. It adapts cooking time using a sound sensor that measures the time between pops so you don't have to worry about bag size or excessive unpopped kernels. Now you can finally watch the movie, not the microwave\",\n",
       " 'Bullet17': 'Included items: convection rack, SureMist steamer and cooking rack. Included cooking rack lets you microwave on two levels, so you can cook several items at once',\n",
       " 'Capacity of Microwave (cu. ft.)': '1.9',\n",
       " 'Certifications and Listings': '1-UL Listed',\n",
       " 'Color/Finish': 'Stainless Steel',\n",
       " 'Color/Finish Family': 'Stainless',\n",
       " 'Cut-Out Front to Back Width (in.)': '12',\n",
       " 'Cut-Out Height (in.)': '17.13',\n",
       " 'Cut-Out Left to Right Length (in.)': '30',\n",
       " 'Door Swing/Style': 'Right to Left Swing',\n",
       " 'Exhaust Fan Speeds': '4',\n",
       " 'Exhaust Maximum CFM': '400',\n",
       " 'MFG Brand Name': 'Whirlpool',\n",
       " 'Microwave Door Release': 'Pull',\n",
       " 'Microwave Features': 'Charcoal Filter,Clock,Convection,Cooktop Lighting,Interior Light,Microwave Rack,Nightlight,One Touch Cooking,Removable Filter,Steam Cook,Timer,Turntable,Turntable On/Off Option',\n",
       " 'Microwave Size': '30 in.',\n",
       " 'Number of One-Touch Settings': '6',\n",
       " 'Number of Power Levels': '10',\n",
       " 'Oven Settings': 'Defrost,Keep Warm,Sensor Cook',\n",
       " 'Product Depth (in.)': '18.5',\n",
       " 'Product Height (in.)': '17.13',\n",
       " 'Product Weight (lb.)': '67.1',\n",
       " 'Product Width (in.)': '29.94',\n",
       " 'Safety Listing': 'UL',\n",
       " 'Sensor Cook': 'Yes',\n",
       " 'Turntable': 'Yes',\n",
       " 'Turntable Diameter': '14',\n",
       " 'Vent Type': 'Convertible',\n",
       " 'Wattage (watts)': '1100',\n",
       " 'common_word:convection': True,\n",
       " 'common_word_count': 1,\n",
       " 'subsequence_query+description': 'convection',\n",
       " 'subsequence_query+title': ''}"
      ]
     },
     "execution_count": 19,
     "metadata": {},
     "output_type": "execute_result"
    }
   ],
   "source": [
    "feat[5]"
   ]
  },
  {
   "cell_type": "code",
   "execution_count": null,
   "metadata": {
    "collapsed": true
   },
   "outputs": [],
   "source": []
  }
 ],
 "metadata": {
  "anaconda-cloud": {},
  "kernelspec": {
   "display_name": "Python [conda root]",
   "language": "python",
   "name": "conda-root-py"
  },
  "language_info": {
   "codemirror_mode": {
    "name": "ipython",
    "version": 3
   },
   "file_extension": ".py",
   "mimetype": "text/x-python",
   "name": "python",
   "nbconvert_exporter": "python",
   "pygments_lexer": "ipython3",
   "version": "3.5.2"
  }
 },
 "nbformat": 4,
 "nbformat_minor": 1
}
